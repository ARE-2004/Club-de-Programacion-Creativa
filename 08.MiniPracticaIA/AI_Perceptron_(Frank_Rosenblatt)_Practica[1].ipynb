{
 "cells": [
  {
   "cell_type": "markdown",
   "metadata": {},
   "source": [
    "## EJEMPLO: Determinar si se le aprueba o no, una tarjeta de crédito a un cliente, considerando la edad y el ahorro que tiene en su cuenta bancaria. "
   ]
  },
  {
   "cell_type": "markdown",
   "metadata": {},
   "source": [
    "## Paso 1. Importar las librerías necesarias"
   ]
  },
  {
   "cell_type": "code",
   "execution_count": null,
   "metadata": {},
   "outputs": [
    {
     "name": "stdout",
     "output_type": "stream",
     "text": [
      "[[0.61111111 0.481     ]\n",
      " [0.30555556 0.336     ]\n",
      " [0.97222222 0.5165    ]\n",
      " [0.19444444 0.618     ]\n",
      " [0.27777778 0.0485    ]]\n",
      "[0 0 1 0 0]\n"
     ]
    }
   ],
   "source": [
    "import pandas as pd\n",
    "import numpy as np\n",
    "\n",
    "data = pd.read_csv(\"data/credito.csv\")\n",
    "\n",
    "personas = data[[\"edad\", \"ahorro\"]].values.astype(float)\n",
    "personas[:, 0] = personas[:, 0] / 16.0\n",
    "personas[:, 1] = personas[:, 1] / 1500.0\n",
    "clases = data[\"aprobado\"].values\n",
    "\n",
    "print(personas[:5])\n",
    "print(clases[:5])"
   ]
  },
  {
   "cell_type": "markdown",
   "metadata": {},
   "source": [
    "## Paso 4. Definir la función de activación"
   ]
  },
  {
   "cell_type": "code",
   "execution_count": 2,
   "metadata": {},
   "outputs": [],
   "source": [
    "def activacion(pesos, x, b, mostrar=False):\n",
    "    z = np.dot(pesos, x) + b\n",
    "    if mostrar:\n",
    "        print(f\"z = {pesos[0]:.3f}*{x[0]:.3f} + {pesos[1]:.3f}*{x[1]:.3f} + {b:.3f} = {z:.3f}\")\n",
    "    return 1 if z > 0 else 0"
   ]
  },
  {
   "cell_type": "markdown",
   "metadata": {},
   "source": [
    "## Paso 5. Generamos los pesos y el bias"
   ]
  },
  {
   "cell_type": "code",
   "execution_count": 3,
   "metadata": {},
   "outputs": [
    {
     "data": {
      "text/plain": [
       "(array([ 0.69618927, -0.28284733]), -0.3847144522889161, 0)"
      ]
     },
     "execution_count": 3,
     "metadata": {},
     "output_type": "execute_result"
    }
   ],
   "source": [
    "pesos = np.random.uniform(-1,1, size=2)\n",
    "b = np.random.uniform(-1,1)\n",
    "pesos, b, activacion(pesos,[10, 100],b)"
   ]
  },
  {
   "cell_type": "markdown",
   "metadata": {},
   "source": [
    "## Paso 6. Implementamos el Algoritmo del Perceptrón"
   ]
  },
  {
   "cell_type": "code",
   "execution_count": 4,
   "metadata": {},
   "outputs": [
    {
     "name": "stdout",
     "output_type": "stream",
     "text": [
      "Época 0: Precisión = 79.6% (Errores: 204)\n",
      "Época 20: Precisión = 87.9% (Errores: 121)\n",
      "Época 40: Precisión = 88.1% (Errores: 119)\n",
      "Época 60: Precisión = 86.8% (Errores: 132)\n",
      "Época 80: Precisión = 86.9% (Errores: 131)\n",
      "Época 100: Precisión = 87.9% (Errores: 121)\n",
      "Época 120: Precisión = 88.6% (Errores: 114)\n",
      "Época 140: Precisión = 87.8% (Errores: 122)\n",
      "Época 160: Precisión = 88.0% (Errores: 120)\n",
      "Época 180: Precisión = 88.6% (Errores: 114)\n",
      "Época 200: Precisión = 88.3% (Errores: 117)\n",
      "Época 220: Precisión = 88.2% (Errores: 118)\n",
      "Época 240: Precisión = 87.3% (Errores: 127)\n",
      "Época 260: Precisión = 88.0% (Errores: 120)\n",
      "Época 280: Precisión = 87.2% (Errores: 128)\n",
      "Época 300: Precisión = 88.2% (Errores: 118)\n",
      "Época 320: Precisión = 88.0% (Errores: 120)\n",
      "Época 340: Precisión = 87.3% (Errores: 127)\n",
      "Época 360: Precisión = 88.4% (Errores: 116)\n",
      "Época 380: Precisión = 87.9% (Errores: 121)\n",
      "Época 400: Precisión = 87.6% (Errores: 124)\n",
      "Época 420: Precisión = 87.7% (Errores: 123)\n",
      "Época 440: Precisión = 88.1% (Errores: 119)\n",
      "Época 460: Precisión = 88.2% (Errores: 118)\n",
      "Época 480: Precisión = 88.3% (Errores: 117)\n",
      "Época 500: Precisión = 88.1% (Errores: 119)\n",
      "Época 520: Precisión = 88.2% (Errores: 118)\n",
      "Época 540: Precisión = 86.0% (Errores: 140)\n",
      "Época 560: Precisión = 88.4% (Errores: 116)\n",
      "Época 580: Precisión = 87.3% (Errores: 127)\n",
      "Época 600: Precisión = 88.2% (Errores: 118)\n",
      "Época 620: Precisión = 88.5% (Errores: 115)\n",
      "Época 640: Precisión = 86.7% (Errores: 133)\n",
      "Época 660: Precisión = 87.4% (Errores: 126)\n",
      "Época 680: Precisión = 88.2% (Errores: 118)\n",
      "Época 700: Precisión = 88.5% (Errores: 115)\n",
      "Época 720: Precisión = 87.0% (Errores: 130)\n",
      "Época 740: Precisión = 87.2% (Errores: 128)\n",
      "Época 760: Precisión = 86.9% (Errores: 131)\n",
      "Época 780: Precisión = 88.7% (Errores: 113)\n",
      "Época 800: Precisión = 88.6% (Errores: 114)\n",
      "Época 820: Precisión = 88.1% (Errores: 119)\n",
      "Época 840: Precisión = 88.7% (Errores: 113)\n",
      "Época 860: Precisión = 88.4% (Errores: 116)\n",
      "Época 880: Precisión = 88.3% (Errores: 117)\n",
      "Época 900: Precisión = 88.6% (Errores: 114)\n",
      "Época 920: Precisión = 88.3% (Errores: 117)\n",
      "Época 940: Precisión = 88.9% (Errores: 111)\n",
      "Época 960: Precisión = 89.4% (Errores: 106)\n",
      "Época 980: Precisión = 88.0% (Errores: 120)\n",
      "\n",
      "Pesos finales: [0.067, 0.080], Bias: -0.088\n"
     ]
    }
   ],
   "source": [
    "np.random.seed(42)  # Para reproducibilidad\n",
    "pesos = np.random.uniform(-0.5, 0.5, size=2)\n",
    "b = np.random.uniform(-0.5, 0.5)\n",
    "tasa_de_aprendizaje = 0.01\n",
    "epocas = 1000\n",
    "\n",
    "for epoca in range(epocas):\n",
    "    # Mezclar los datos en cada época\n",
    "    indices = np.random.permutation(len(personas))\n",
    "    error_total = 0\n",
    "    \n",
    "    for i in indices:\n",
    "        prediccion = activacion(pesos, personas[i], b)\n",
    "        error = clases[i] - prediccion\n",
    "        \n",
    "        if error != 0:  # Solo actualizar si hay error\n",
    "            pesos += tasa_de_aprendizaje * personas[i] * error\n",
    "            b += tasa_de_aprendizaje * error\n",
    "            error_total += 1\n",
    "    \n",
    "    if epoca % 20 == 0:\n",
    "        precision = 100 * (1 - error_total / len(personas))\n",
    "        print(f\"Época {epoca}: Precisión = {precision:.1f}% (Errores: {error_total})\")\n",
    "\n",
    "print(f\"\\nPesos finales: [{pesos[0]:.3f}, {pesos[1]:.3f}], Bias: {b:.3f}\")"
   ]
  },
  {
   "cell_type": "markdown",
   "metadata": {},
   "source": [
    "## Paso 7. Probar el algoritmo"
   ]
  },
  {
   "cell_type": "code",
   "execution_count": 5,
   "metadata": {},
   "outputs": [
    {
     "name": "stdout",
     "output_type": "stream",
     "text": [
      "Rechazada (17 años, $999):\n",
      "z = 0.067*0.472 + 0.080*0.499 + -0.088 = -0.017\n",
      "0\n"
     ]
    }
   ],
   "source": [
    "print(\"Rechazada (17 años, $999):\")\n",
    "print(activacion(pesos, [17/36, 999/2000], b, mostrar=True))"
   ]
  },
  {
   "cell_type": "code",
   "execution_count": 10,
   "metadata": {},
   "outputs": [
    {
     "name": "stdout",
     "output_type": "stream",
     "text": [
      "\n",
      "Aceptada (18 años, $1000):\n",
      "z = 0.067*0.556 + 0.080*0.650 + -0.088 = 0.001\n",
      "1\n"
     ]
    }
   ],
   "source": [
    "print(\"\\nAceptada (18 años, $1000):\")\n",
    "print(activacion(pesos, [20/36, 1300/2000], b, mostrar=True))"
   ]
  },
  {
   "cell_type": "code",
   "execution_count": 7,
   "metadata": {},
   "outputs": [
    {
     "name": "stdout",
     "output_type": "stream",
     "text": [
      "\n",
      "No debería aceptar (0 años, $1500):\n",
      "z = 0.067*0.000 + 0.080*0.750 + -0.088 = -0.028\n",
      "0\n"
     ]
    }
   ],
   "source": [
    "print(\"\\nNo debería aceptar (0 años, $1500):\")\n",
    "print(activacion(pesos, [0/36, 1500/2000], b, mostrar=True))"
   ]
  }
 ],
 "metadata": {
  "kernelspec": {
   "display_name": "Python 3",
   "language": "python",
   "name": "python3"
  },
  "language_info": {
   "codemirror_mode": {
    "name": "ipython",
    "version": 3
   },
   "file_extension": ".py",
   "mimetype": "text/x-python",
   "name": "python",
   "nbconvert_exporter": "python",
   "pygments_lexer": "ipython3",
   "version": "3.13.7"
  }
 },
 "nbformat": 4,
 "nbformat_minor": 2
}
