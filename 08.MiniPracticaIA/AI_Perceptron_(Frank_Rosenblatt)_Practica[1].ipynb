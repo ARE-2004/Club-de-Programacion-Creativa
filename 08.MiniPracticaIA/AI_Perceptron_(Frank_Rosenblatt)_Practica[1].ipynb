{
 "cells": [
  {
   "cell_type": "markdown",
   "metadata": {},
   "source": [
    "## EJEMPLO: Determinar si se le aprueba o no, una tarjeta de crédito a un cliente, considerando la edad y el ahorro que tiene en su cuenta bancaria. "
   ]
  },
  {
   "cell_type": "markdown",
   "metadata": {},
   "source": [
    "## Paso 1. Importar las librerías necesarias"
   ]
  },
  {
   "cell_type": "code",
   "execution_count": 1,
   "metadata": {},
   "outputs": [
    {
     "name": "stdout",
     "output_type": "stream",
     "text": [
      "[[0.58   0.4008]\n",
      " [0.24   0.5132]\n",
      " [0.8    0.3132]\n",
      " [0.9    0.6172]\n",
      " [0.38   0.8868]]\n",
      "[1 0 0 1 1]\n"
     ]
    }
   ],
   "source": [
    "import pandas as pd\n",
    "import numpy as np\n",
    "\n",
    "data = pd.read_csv(\"data/credito.csv\")\n",
    "\n",
    "personas = data[[\"edad\", \"ahorro\"]].values.astype(float)\n",
    "personas[:, 0] = personas[:, 0] / 50.0\n",
    "personas[:, 1] = personas[:, 1] / 2500.0\n",
    "clases = data[\"aprobado\"].values\n",
    "\n",
    "print(personas[:5])\n",
    "print(clases[:5])"
   ]
  },
  {
   "cell_type": "markdown",
   "metadata": {},
   "source": [
    "## Paso 2. Definir la función de activación"
   ]
  },
  {
   "cell_type": "code",
   "execution_count": 2,
   "metadata": {},
   "outputs": [],
   "source": [
    "def activacion(pesos, x, b, mostrar=False):\n",
    "    z = np.dot(pesos, x) + b\n",
    "    if mostrar:\n",
    "        print(f\"z = {pesos[0]:.3f}*{x[0]:.3f} + {pesos[1]:.3f}*{x[1]:.3f} + {b:.3f} = {z:.3f}\")\n",
    "    return 1 if z > 0 else 0"
   ]
  },
  {
   "cell_type": "markdown",
   "metadata": {},
   "source": [
    "## Paso 3. Generamos los pesos y el bias"
   ]
  },
  {
   "cell_type": "code",
   "execution_count": 3,
   "metadata": {},
   "outputs": [],
   "source": [
    "pesos = np.random.uniform(-1,1, size=2)\n",
    "b = np.random.uniform(-1,1)"
   ]
  },
  {
   "cell_type": "markdown",
   "metadata": {},
   "source": [
    "## Paso 4. Implementamos el Algoritmo del Perceptrón"
   ]
  },
  {
   "cell_type": "code",
   "execution_count": 4,
   "metadata": {},
   "outputs": [
    {
     "name": "stdout",
     "output_type": "stream",
     "text": [
      "Época 0: 78.3%\n",
      "Época 50: 74.7%\n",
      "Época 100: 74.1%\n",
      "Época 150: 74.8%\n",
      "Época 200: 73.9%\n",
      "Época 250: 74.1%\n",
      "Época 300: 73.2%\n",
      "Época 350: 73.6%\n",
      "Época 400: 73.9%\n",
      "Época 450: 74.4%\n"
     ]
    }
   ],
   "source": [
    "np.random.seed(42)  # Para reproducibilidad\n",
    "pesos = np.array([1.0, 1.0])  # Dar peso similar a ambos\n",
    "b = -1.0\n",
    "tasa_de_aprendizaje = 0.005  # Más lento = más preciso\n",
    "epocas = 500  # Más iteraciones\n",
    "\n",
    "for epoca in range(epocas):\n",
    "    indices = np.random.permutation(len(personas))\n",
    "    errores = 0\n",
    "    \n",
    "    for i in indices:\n",
    "        prediccion = activacion(pesos, personas[i], b)\n",
    "        error = clases[i] - prediccion\n",
    "        \n",
    "        if error != 0:\n",
    "            pesos += tasa_de_aprendizaje * personas[i] * error\n",
    "            b += tasa_de_aprendizaje * error\n",
    "            errores += 1\n",
    "    \n",
    "    if epoca % 50 == 0:\n",
    "        print(f\"Época {epoca}: {100*(1-errores/len(personas)):.1f}%\")"
   ]
  },
  {
   "cell_type": "markdown",
   "metadata": {},
   "source": [
    "## Paso 5. Probar el algoritmo"
   ]
  },
  {
   "cell_type": "code",
   "execution_count": 5,
   "metadata": {},
   "outputs": [
    {
     "name": "stdout",
     "output_type": "stream",
     "text": [
      "Rechazada (15 años, $800):\n",
      "z = 0.014*0.300 + 0.026*0.320 + -0.020 = -0.007\n",
      "0\n"
     ]
    }
   ],
   "source": [
    "print(\"Rechazada (15 años, $800):\")\n",
    "print(activacion(pesos, [15/50, 800/2500], b, mostrar=True))"
   ]
  },
  {
   "cell_type": "code",
   "execution_count": 6,
   "metadata": {},
   "outputs": [
    {
     "name": "stdout",
     "output_type": "stream",
     "text": [
      "\n",
      "Aceptada (25 años, $1600):\n",
      "z = 0.014*0.500 + 0.026*0.640 + -0.020 = 0.004\n",
      "1\n"
     ]
    }
   ],
   "source": [
    "print(\"\\nAceptada (25 años, $1600):\")\n",
    "print(activacion(pesos, [25/50, 1600/2500], b, mostrar=True))"
   ]
  },
  {
   "cell_type": "code",
   "execution_count": 7,
   "metadata": {},
   "outputs": [
    {
     "name": "stdout",
     "output_type": "stream",
     "text": [
      "\n",
      "No debería aceptar (0 años, $1500):\n",
      "z = 0.014*0.000 + 0.026*0.600 + -0.020 = -0.004\n",
      "0\n"
     ]
    }
   ],
   "source": [
    "print(\"\\nNo debería aceptar (0 años, $1500):\")\n",
    "print(activacion(pesos, [0/50, 1500/2500], b, mostrar=True))"
   ]
  }
 ],
 "metadata": {
  "kernelspec": {
   "display_name": "Python 3",
   "language": "python",
   "name": "python3"
  },
  "language_info": {
   "codemirror_mode": {
    "name": "ipython",
    "version": 3
   },
   "file_extension": ".py",
   "mimetype": "text/x-python",
   "name": "python",
   "nbconvert_exporter": "python",
   "pygments_lexer": "ipython3",
   "version": "3.13.7"
  }
 },
 "nbformat": 4,
 "nbformat_minor": 2
}
